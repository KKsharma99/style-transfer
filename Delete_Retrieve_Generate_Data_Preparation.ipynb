{
 "cells": [
  {
   "cell_type": "code",
   "execution_count": 1,
   "metadata": {},
   "outputs": [],
   "source": [
    "from tqdm import tqdm, trange\n",
    "import numpy as np"
   ]
  },
  {
   "cell_type": "code",
   "execution_count": 2,
   "metadata": {},
   "outputs": [],
   "source": [
    "def process_file(input_file, output_file):\n",
    "    \"\"\"\n",
    "    The function process the data files for Delete & Generate and convert\n",
    "    it for the Delete, Retrieve and Generate training by separating the content\n",
    "    and attributes. It includes all the attribure words.\n",
    "    \n",
    "    Input_file: string : Path of the input file\n",
    "    Output_file: string : Path of the output file \n",
    "    \"\"\"\n",
    "    \n",
    "    with open(input_file) as fp:\n",
    "        data = fp.read().splitlines()\n",
    "    with open (output_file,\"w\") as out_fp:\n",
    "        for x in tqdm(data):\n",
    "            temp = x.split(\"<START>\")\n",
    "            con = temp[0].replace(\"<POS>\",\"\").replace(\"<NEG>\",\"\").replace(\"<CON_START>\",\"\")\n",
    "            sen = temp[1].replace(\"<END>\",\"\")\n",
    "            lt1 = con.split()\n",
    "            lt2 = sen.split()\n",
    "            att_tokens = [z for z in lt2 if z not in lt1]\n",
    "            if len(att_tokens) > max_atts:\n",
    "                max_atts = len(att_tokens)\n",
    "            att_words = \" \".join(att_tokens)\n",
    "            out_str = \"<ATTR_WORDS> \" + att_words + \" <CON_START> \" + con.strip() + \" <START> \" + sen.strip() + \" <END>\" + \"\\n\"\n",
    "            out_fp.write(out_str)\n",
    "    "
   ]
  },
  {
   "cell_type": "code",
   "execution_count": 7,
   "metadata": {},
   "outputs": [],
   "source": [
    "def process_file_v1(input_file, output_file):\n",
    "    \"\"\"\n",
    "    The function process the data files for Delete & Generate and convert\n",
    "    it for the Delete, Retrieve and Generate training by separating the content\n",
    "    and attributes. It randomly picks 70% of the attributes only to make the generation\n",
    "    more realistic instead of just filling the blanks, which helps while generating\n",
    "    sentences for test cases.\n",
    "    \n",
    "    Input_file: string : Path of the input file\n",
    "    Output_file: string : Path of the output file \n",
    "    \"\"\"\n",
    "    with open(input_file) as fp:\n",
    "        data = fp.read().splitlines()\n",
    "    with open (output_file,\"w\") as out_fp:\n",
    "        for x in tqdm(data):\n",
    "            try:\n",
    "                temp = x.split(\"<START>\")\n",
    "                con = temp[0].replace(\"<POS>\",\"\").replace(\"<NEG>\",\"\").replace(\"<CON_START>\",\"\")\n",
    "                sen = temp[1].replace(\"<END>\",\"\")\n",
    "                lt1 = con.split()\n",
    "                lt2 = sen.split()\n",
    "                att_words = [z for z in lt2 if z not in lt1]\n",
    "                #print(att_words)\n",
    "            except:\n",
    "                continue\n",
    "            if len(att_words) > 2:\n",
    "                indx = np.array(list(range(len(att_words))))\n",
    "                np.random.shuffle(indx)\n",
    "                att_words = \" \".join([att_words[indx[k]] for k in range(int(0.7 * len(att_words)))])\n",
    "            else: # If attributes less than 2 then keep all the attributes\n",
    "                att_words = \" \".join(att_words)\n",
    "            #print(att_words)\n",
    "            out_str = \"<ATTR_WORDS> \" + att_words + \" <CON_START> \" + con.strip() + \" <START> \" + sen.strip() + \" <END>\" + \"\\n\"\n",
    "            out_fp.write(out_str)"
   ]
  },
  {
   "cell_type": "code",
   "execution_count": 5,
   "metadata": {},
   "outputs": [],
   "source": [
    "import os\n",
    "\n",
    "data_dir = os.getcwd()\n",
    "inp_dataset = \"data/processed_files/\" # amazon / yelp / imagecaption\n",
    "out_dataset = \"data/processed_files/dre_model\""
   ]
  },
  {
   "cell_type": "code",
   "execution_count": 14,
   "metadata": {},
   "outputs": [
    {
     "name": "stderr",
     "output_type": "stream",
     "text": [
      "100%|██████████| 23094/23094 [00:02<00:00, 9560.85it/s] \n",
      "100%|██████████| 9382/9382 [00:01<00:00, 5325.39it/s]\n",
      "100%|██████████| 13711/13711 [00:01<00:00, 13663.81it/s]\n"
     ]
    }
   ],
   "source": [
    "process_file_v1(os.path.join(data_dir ,\"{}/train/all.txt\".format(inp_dataset)), \\\n",
    "             os.path.join(data_dir ,\"{}/train/all.txt\".format(out_dataset)))\n",
    "process_file_v1(os.path.join(data_dir ,\"{}/train/en_2.txt\".format(inp_dataset)), \\\n",
    "             os.path.join(data_dir ,\"{}/train/en.txt\".format(out_dataset)))\n",
    "process_file_v1(os.path.join(data_dir ,\"{}/train/trump.txt\".format(inp_dataset)), \\\n",
    "             os.path.join(data_dir ,\"{}/train/trump.txt\".format(out_dataset)))"
   ]
  },
  {
   "cell_type": "code",
   "execution_count": 15,
   "metadata": {},
   "outputs": [
    {
     "name": "stderr",
     "output_type": "stream",
     "text": [
      "100%|██████████| 91782/91782 [00:02<00:00, 36074.50it/s]\n",
      "100%|██████████| 91633/91633 [00:02<00:00, 37409.91it/s]\n",
      "100%|██████████| 148/148 [00:00<00:00, 9592.31it/s]\n"
     ]
    }
   ],
   "source": [
    "process_file_v1(os.path.join(data_dir ,\"{}/test/all.txt\".format(inp_dataset)), \\\n",
    "             os.path.join(data_dir ,\"{}/test/all.txt\".format(out_dataset)))\n",
    "process_file_v1(os.path.join(data_dir ,\"{}/test/en_2.txt\".format(inp_dataset)), \\\n",
    "             os.path.join(data_dir ,\"{}/test/en.txt\".format(out_dataset)))\n",
    "process_file_v1(os.path.join(data_dir ,\"{}/test/trump.txt\".format(inp_dataset)), \\\n",
    "             os.path.join(data_dir ,\"{}/test/trump.txt\".format(out_dataset)))"
   ]
  },
  {
   "cell_type": "code",
   "execution_count": 16,
   "metadata": {},
   "outputs": [
    {
     "name": "stderr",
     "output_type": "stream",
     "text": [
      "100%|██████████| 3175/3175 [00:00<00:00, 7288.05it/s]\n",
      "100%|██████████| 1294/1294 [00:00<00:00, 4483.99it/s]\n",
      "100%|██████████| 1880/1880 [00:00<00:00, 10229.35it/s]\n"
     ]
    }
   ],
   "source": [
    "process_file_v1(os.path.join(data_dir ,\"{}/dev/all.txt\".format(inp_dataset)), \\\n",
    "             os.path.join(data_dir ,\"{}/dev/all.txt\".format(out_dataset)))\n",
    "process_file_v1(os.path.join(data_dir ,\"{}/dev/en_2.txt\".format(inp_dataset)), \\\n",
    "             os.path.join(data_dir ,\"{}/dev/en.txt\".format(out_dataset)))\n",
    "process_file_v1(os.path.join(data_dir ,\"{}/dev/trump.txt\".format(inp_dataset)), \\\n",
    "             os.path.join(data_dir ,\"{}/dev/trump.txt\".format(out_dataset)))"
   ]
  },
  {
   "cell_type": "code",
   "execution_count": null,
   "metadata": {},
   "outputs": [],
   "source": [
    "# process_file_v1(\"./processed_files_with_bert_with_best_head/sentiment_train.txt\",\"./processed_files_with_bert_with_best_head/delete_retrieve_edit_model/sentiment_train.txt\")\n",
    "# process_file_v1(\"./processed_files_with_bert_with_best_head/sentiment_train_1.txt\",\"./processed_files_with_bert_with_best_head/delete_retrieve_edit_model/sentiment_train_1.txt\")\n",
    "# process_file_v1(\"./processed_files_with_bert_with_best_head/sentiment_train_0.txt\",\"./processed_files_with_bert_with_best_head/delete_retrieve_edit_model/sentiment_train_0.txt\")"
   ]
  },
  {
   "cell_type": "code",
   "execution_count": null,
   "metadata": {},
   "outputs": [],
   "source": [
    "# process_file_v1(\"./processed_files_with_bert_with_best_head/sentiment_test.txt\",\"./processed_files_with_bert_with_best_head/delete_retrieve_edit_model/sentiment_test.txt\")\n",
    "# process_file_v1(\"./processed_files_with_bert_with_best_head/sentiment_test_1.txt\",\"./processed_files_with_bert_with_best_head/delete_retrieve_edit_model/sentiment_test_1.txt\")\n",
    "# process_file_v1(\"./processed_files_with_bert_with_best_head/sentiment_test_0.txt\",\"./processed_files_with_bert_with_best_head/delete_retrieve_edit_model/sentiment_test_0.txt\")"
   ]
  },
  {
   "cell_type": "code",
   "execution_count": null,
   "metadata": {},
   "outputs": [],
   "source": [
    "# process_file_v1(\"./processed_files_with_bert_with_best_head/sentiment_dev.txt\",\"./processed_files_with_bert_with_best_head/delete_retrieve_edit_model/sentiment_dev.txt\")\n",
    "# process_file_v1(\"./processed_files_with_bert_with_best_head/sentiment_dev_0.txt\",\"./processed_files_with_bert_with_best_head/delete_retrieve_edit_model/sentiment_dev_1.txt\")\n",
    "# process_file_v1(\"./processed_files_with_bert_with_best_head/sentiment_dev_1.txt\",\"./processed_files_with_bert_with_best_head/delete_retrieve_edit_model/sentiment_dev_0.txt\")"
   ]
  }
 ],
 "metadata": {
  "kernelspec": {
   "display_name": "Python 3",
   "language": "python",
   "name": "python3"
  },
  "language_info": {
   "codemirror_mode": {
    "name": "ipython",
    "version": 3
   },
   "file_extension": ".py",
   "mimetype": "text/x-python",
   "name": "python",
   "nbconvert_exporter": "python",
   "pygments_lexer": "ipython3",
   "version": "3.7.4"
  }
 },
 "nbformat": 4,
 "nbformat_minor": 2
}
